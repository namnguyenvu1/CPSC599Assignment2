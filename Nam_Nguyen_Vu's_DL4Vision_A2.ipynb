{
  "cells": [
    {
      "cell_type": "markdown",
      "metadata": {
        "id": "sY1yDtBrFOHM"
      },
      "source": [
        "# Assignment 2: Part 1\n",
        "\n",
        "### Task 1: (15 points)\n",
        "Implement *DropOut* from scratch using PyTorch. Note that you are not allowed to use torch.nn.Dropout. This task is similar to the previous assignment, but you should use the tensor functionality of PyTorch instead of numpy arrays.\n",
        "*DropOut* takes only one argument, which is the probability that it will be applied to each element of an input tensor.\n",
        "\n",
        "Note that *DropOut* should show different behaviour in `train` and `eval` modes."
      ]
    },
    {
      "cell_type": "code",
      "execution_count": null,
      "metadata": {
        "id": "BWXTO_ewGPB2"
      },
      "outputs": [],
      "source": [
        "#TODO: Implement DropOut class here\n",
        "import torch\n",
        "\n",
        "class DropOut:\n",
        "  def __init__(self, probability = 0.5):\n",
        "    # probability = 0.5 is the default value according to the Pytorch's Dropout documentation, it could be changed later\n",
        "    self.probability = probability\n",
        "    self.train_mode = None\n",
        "\n",
        "  def train(self):\n",
        "    self.train_mode = True\n",
        "\n",
        "  def eval(self):\n",
        "    self.train_mode = False\n",
        "\n",
        "  def forward(self, input):\n",
        "    if (self.train_mode == True):\n",
        "      input = input * (1/(1-self.probability))\n",
        "      # Create a tensor of the size of the input (with value between 0 and 1) and if the value > probability, set it to 1, else 0\n",
        "      dropout_layer = (torch.rand(size=input.size()) > self.probability).float()\n",
        "      result = input * dropout_layer\n",
        "      return result\n",
        "    else:\n",
        "      result = input\n",
        "      return result"
      ]
    },
    {
      "cell_type": "code",
      "execution_count": null,
      "metadata": {
        "colab": {
          "base_uri": "https://localhost:8080/"
        },
        "id": "eymFjSDyI392",
        "outputId": "edb71951-09e1-47ca-a502-9ae6543c1dca"
      },
      "outputs": [
        {
          "name": "stdout",
          "output_type": "stream",
          "text": [
            "Input value is: tensor([[0.8823, 0.9150, 0.3829, 0.9593],\n",
            "        [0.3904, 0.6009, 0.2566, 0.7936],\n",
            "        [0.9408, 0.1332, 0.9346, 0.5936],\n",
            "        [0.8694, 0.5677, 0.7411, 0.4294],\n",
            "        [0.8854, 0.5739, 0.2666, 0.6274]])\n",
            "\n",
            "Result is: tensor([[1.1028, 1.1438, 0.4786, 1.1991],\n",
            "        [0.0000, 0.7511, 0.3207, 0.0000],\n",
            "        [1.1760, 0.0000, 1.1682, 0.0000],\n",
            "        [1.0868, 0.7096, 0.9264, 0.5368],\n",
            "        [1.1068, 0.7174, 0.3332, 0.7843]])\n"
          ]
        }
      ],
      "source": [
        "# Test code for DropOut\n",
        "myDropOut = DropOut(probability=0.2)\n",
        "myDropOut.train()\n",
        "torch.manual_seed(42) # Make the random testTensor1 always give the same value\n",
        "testTensor1 = torch.rand(5, 4)\n",
        "result = myDropOut.forward(input=testTensor1)\n",
        "print(f\"Input value is: {testTensor1}\\n\")\n",
        "print(f\"Result is: {result}\")"
      ]
    },
    {
      "cell_type": "code",
      "execution_count": null,
      "metadata": {
        "colab": {
          "base_uri": "https://localhost:8080/"
        },
        "id": "6H0nJPzHUPOF",
        "outputId": "35b1fbf5-1e74-4f52-b0ed-712105fc2cd9"
      },
      "outputs": [
        {
          "name": "stdout",
          "output_type": "stream",
          "text": [
            "Input value is: tensor([[0.8823, 0.9150, 0.3829, 0.9593],\n",
            "        [0.3904, 0.6009, 0.2566, 0.7936],\n",
            "        [0.9408, 0.1332, 0.9346, 0.5936],\n",
            "        [0.8694, 0.5677, 0.7411, 0.4294],\n",
            "        [0.8854, 0.5739, 0.2666, 0.6274]])\n",
            "\n",
            "Result is: tensor([[1.1028, 1.1438, 0.4786, 1.1991],\n",
            "        [0.4881, 0.7511, 0.3207, 0.9921],\n",
            "        [0.0000, 0.0000, 0.0000, 0.7420],\n",
            "        [1.0868, 0.7096, 0.9264, 0.5368],\n",
            "        [1.1068, 0.7174, 0.3332, 0.0000]])\n"
          ]
        }
      ],
      "source": [
        "# Test code to find the real value of Dropout\n",
        "test_Dropout = torch.nn.Dropout(0.2)\n",
        "torch.manual_seed(42)\n",
        "input = torch.rand(5, 4)\n",
        "ans = test_Dropout(input)\n",
        "print(f\"Input value is: {input}\\n\")\n",
        "print(f\"Result is: {ans}\")"
      ]
    },
    {
      "cell_type": "markdown",
      "metadata": {
        "id": "WCFlpPdtGrwG"
      },
      "source": [
        "### Task 2: (15 points)\n",
        "\n",
        "Research Covariate shift and batch normalization, and implement `BatchNorm1d`, the batch normalization, **from scratch**.\n",
        "You can initialize $\\gamma$ (scale) as a tensor of ones and $\\beta$ (shift) as a tensor of zeros.\n",
        "Note that *BatchNorm1d* should show different behaviour in `train` and `eval` modes.\n"
      ]
    },
    {
      "cell_type": "code",
      "execution_count": null,
      "metadata": {
        "id": "-6vznBYm18Sb"
      },
      "outputs": [],
      "source": [
        "#TODO: Implement BatchNorm1d here\n",
        "import torch\n",
        "\n",
        "class BatchNorm1d:\n",
        "  def __init__(self, number_of_features, epsilon = 1e-5, momentum=0.1): # Initial values are from Torch documentation for BatchNorm1D\n",
        "    self.number_of_features = number_of_features\n",
        "    self.epsilon = epsilon\n",
        "    self.momentum = momentum\n",
        "    self.scale = torch.ones(number_of_features)\n",
        "    self.shift = torch.zeros(number_of_features)\n",
        "    self.running_est_mean = torch.zeros(number_of_features)\n",
        "    self.running_est_variance = torch.ones(number_of_features)\n",
        "\n",
        "  def train(self):\n",
        "    self.train_mode = True\n",
        "\n",
        "  def eval(self):\n",
        "    self.train_mode = False\n",
        "\n",
        "  def forward(self, input):\n",
        "    if (self.train_mode):\n",
        "      expected_value = input.mean(dim=0) # Calculate expected value\n",
        "      variance = input.var(dim=0, unbiased=False) # Calculate variance (I need to set unbiased to False so the test value match)\n",
        "\n",
        "      # Calculate to keep track of running estimate of mean and variance\n",
        "      self.running_est_mean = (1-self.momentum) * self.running_est_mean + self.momentum * expected_value\n",
        "      self.running_est_variance = (1-self.momentum) * self.running_est_variance + self.momentum * variance\n",
        "\n",
        "      # Calculate return value\n",
        "      nominator = input - expected_value\n",
        "      denominator = torch.sqrt(variance + self.epsilon)\n",
        "      result = nominator/denominator\n",
        "      result = result * self.scale + self.shift\n",
        "\n",
        "    else:\n",
        "      # Use the running estimate of mean and variance to normalize data\n",
        "      nominator = input - self.running_est_mean\n",
        "      denominator = torch.sqrt(self.running_est_variance + self.epsilon)\n",
        "      result = nominator/denominator\n",
        "      result = result * self.scale + self.shift\n",
        "\n",
        "    return result"
      ]
    },
    {
      "cell_type": "code",
      "execution_count": null,
      "metadata": {
        "colab": {
          "base_uri": "https://localhost:8080/"
        },
        "id": "BcpwKNguwyRG",
        "outputId": "2e031011-9061-4d5e-fdeb-ddf3e060b3fd"
      },
      "outputs": [
        {
          "name": "stdout",
          "output_type": "stream",
          "text": [
            "tensor([[ 1.9804,  0.9999,  0.3488,  ...,  0.4652,  0.6788,  0.0317],\n",
            "        [ 0.6687,  0.1961,  0.5063,  ...,  0.3198,  0.2854,  1.4609],\n",
            "        [ 0.5518,  1.5553, -0.9982,  ...,  0.2033,  0.8741,  0.7690],\n",
            "        ...,\n",
            "        [-0.6074,  0.6226,  0.6534,  ..., -0.4492, -0.4772, -0.9109],\n",
            "        [ 0.3217,  1.1352, -1.5229,  ...,  0.2600, -1.2312,  1.9219],\n",
            "        [-0.2842,  0.1436,  0.4605,  ..., -1.4383,  0.9230,  0.4896]])\n"
          ]
        }
      ],
      "source": [
        "batchNorm1d = BatchNorm1d(number_of_features=100)\n",
        "batchNorm1d.train()\n",
        "torch.manual_seed(42)\n",
        "input = torch.randn(20, 100)\n",
        "print(batchNorm1d.forward(input))"
      ]
    },
    {
      "cell_type": "code",
      "execution_count": null,
      "metadata": {
        "colab": {
          "base_uri": "https://localhost:8080/"
        },
        "id": "HX1S95-z5G00",
        "outputId": "f6fe0961-ab4c-4fd6-f567-27e515d468e7"
      },
      "outputs": [
        {
          "name": "stdout",
          "output_type": "stream",
          "text": [
            "tensor([[ 1.9804,  0.9999,  0.3488,  ...,  0.4652,  0.6788,  0.0317],\n",
            "        [ 0.6687,  0.1961,  0.5063,  ...,  0.3198,  0.2854,  1.4609],\n",
            "        [ 0.5518,  1.5553, -0.9982,  ...,  0.2033,  0.8741,  0.7690],\n",
            "        ...,\n",
            "        [-0.6074,  0.6226,  0.6534,  ..., -0.4492, -0.4772, -0.9109],\n",
            "        [ 0.3217,  1.1352, -1.5229,  ...,  0.2600, -1.2312,  1.9219],\n",
            "        [-0.2842,  0.1436,  0.4605,  ..., -1.4383,  0.9230,  0.4896]],\n",
            "       grad_fn=<NativeBatchNormBackward0>)\n"
          ]
        }
      ],
      "source": [
        "# Test code to find the real value of BatchNorm1d\n",
        "test_func = torch.nn.BatchNorm1d(num_features=100)\n",
        "torch.manual_seed(42)\n",
        "input = torch.randn(20, 100)\n",
        "ans = test_func(input)\n",
        "print(ans)"
      ]
    },
    {
      "cell_type": "markdown",
      "metadata": {
        "id": "-_eG2sW1MQrV"
      },
      "source": [
        "# Assignment 2: Part 2\n",
        "In this assignment, we will use a multi-layer perceptron network to build an image classifier for single digits.\n",
        "Download and extract the MNISTDigit.zip file from D2L. This contains images for the digit classification task. The dataset contains 10 classes, where class `i` contains images of digit `i`."
      ]
    },
    {
      "cell_type": "markdown",
      "metadata": {
        "id": "m0mcBPYB8x0O"
      },
      "source": [
        "### Task 3: (5 points)\n",
        "Explore the dataset by visualizing a few examples of each class and finding and showing the number of samples in each class of the train folder. Do you observe any data imbalance in this dataset?"
      ]
    },
    {
      "cell_type": "code",
      "execution_count": null,
      "metadata": {
        "colab": {
          "base_uri": "https://localhost:8080/"
        },
        "id": "U0JQnA34JYXB",
        "outputId": "d9e6e619-99d9-423a-ae09-0c79f2bf9970"
      },
      "outputs": [
        {
          "name": "stdout",
          "output_type": "stream",
          "text": [
            "Requirement already satisfied: gdown in /usr/local/lib/python3.10/dist-packages (4.6.6)\n",
            "Requirement already satisfied: filelock in /usr/local/lib/python3.10/dist-packages (from gdown) (3.12.4)\n",
            "Requirement already satisfied: requests[socks] in /usr/local/lib/python3.10/dist-packages (from gdown) (2.31.0)\n",
            "Requirement already satisfied: six in /usr/local/lib/python3.10/dist-packages (from gdown) (1.16.0)\n",
            "Requirement already satisfied: tqdm in /usr/local/lib/python3.10/dist-packages (from gdown) (4.66.1)\n",
            "Requirement already satisfied: beautifulsoup4 in /usr/local/lib/python3.10/dist-packages (from gdown) (4.11.2)\n",
            "Requirement already satisfied: soupsieve>1.2 in /usr/local/lib/python3.10/dist-packages (from beautifulsoup4->gdown) (2.5)\n",
            "Requirement already satisfied: charset-normalizer<4,>=2 in /usr/local/lib/python3.10/dist-packages (from requests[socks]->gdown) (3.3.1)\n",
            "Requirement already satisfied: idna<4,>=2.5 in /usr/local/lib/python3.10/dist-packages (from requests[socks]->gdown) (3.4)\n",
            "Requirement already satisfied: urllib3<3,>=1.21.1 in /usr/local/lib/python3.10/dist-packages (from requests[socks]->gdown) (2.0.7)\n",
            "Requirement already satisfied: certifi>=2017.4.17 in /usr/local/lib/python3.10/dist-packages (from requests[socks]->gdown) (2023.7.22)\n",
            "Requirement already satisfied: PySocks!=1.5.7,>=1.5.6 in /usr/local/lib/python3.10/dist-packages (from requests[socks]->gdown) (1.7.1)\n",
            "The zip file MNISTDigit existed\n",
            "The unzipped folder MNISTDigit existed\n"
          ]
        }
      ],
      "source": [
        "from pathlib import Path\n",
        "import os\n",
        "!pip install gdown\n",
        "\n",
        "# data_path = Path(\"/content\") # This one is hard coded\n",
        "data_path = Path(os.getcwd()) # This one will return your current path, so it will works better\n",
        "image_path = data_path / \"MNISTDigit\"\n",
        "zip_path = data_path / \"MNISTDigit.zip\"\n",
        "\n",
        "if zip_path.exists():\n",
        "  print(\"The zip file MNISTDigit existed\")\n",
        "else:\n",
        "  !gdown --id 13ZdAm179cYrP7ZhcYU5ZvYo1Ozp4wvWC -O MNISTDigit.zip\n",
        "  # I download the zip file from D2L and put in my Google Drive\n",
        "  # The link is https://drive.google.com/file/d/13ZdAm179cYrP7ZhcYU5ZvYo1Ozp4wvWC/view?usp=sharing\n",
        "\n",
        "if image_path.is_dir():\n",
        "  print(\"The unzipped folder MNISTDigit existed\")\n",
        "else:\n",
        "  !unzip -o MNISTDigit.zip # The flag \"-o\" will overwrite if folder existed"
      ]
    },
    {
      "cell_type": "code",
      "execution_count": null,
      "metadata": {
        "colab": {
          "base_uri": "https://localhost:8080/",
          "height": 1000
        },
        "id": "ArFnSQ1ykbRY",
        "outputId": "cd2da081-6f9e-451b-d672-73b54fdb17fc"
      },
      "outputs": [
        {
          "data": {
            "image/png": "[encoded data removed]",
            "text/plain": [
              "<Figure size 640x480 with 1 Axes>"
            ]
          },
          "metadata": {},
          "output_type": "display_data"
        },
        {
          "data": {
            "image/png": "[encoded data removed]",
            "text/plain": [
              "<Figure size 640x480 with 1 Axes>"
            ]
          },
          "metadata": {},
          "output_type": "display_data"
        },
        {
          "data": {
            "image/png": "[encoded data removed]",
            "text/plain": [
              "<Figure size 640x480 with 1 Axes>"
            ]
          },
          "metadata": {},
          "output_type": "display_data"
        },
        {
          "data": {
            "image/png": "[encoded data removed]",
            "text/plain": [
              "<Figure size 640x480 with 1 Axes>"
            ]
          },
          "metadata": {},
          "output_type": "display_data"
        },
        {
          "data": {
            "image/png": "[encoded data removed]",
            "text/plain": [
              "<Figure size 640x480 with 1 Axes>"
            ]
          },
          "metadata": {},
          "output_type": "display_data"
        },
        {
          "data": {
            "image/png": "[encoded data removed]",
            "text/plain": [
              "<Figure size 640x480 with 1 Axes>"
            ]
          },
          "metadata": {},
          "output_type": "display_data"
        },
        {
          "data": {
            "image/png": "[encoded data removed]",
            "text/plain": [
              "<Figure size 640x480 with 1 Axes>"
            ]
          },
          "metadata": {},
          "output_type": "display_data"
        },
        {
          "data": {
            "image/png": "[encoded data removed]",
            "text/plain": [
              "<Figure size 640x480 with 1 Axes>"
            ]
          },
          "metadata": {},
          "output_type": "display_data"
        },
        {
          "data": {
            "image/png": "[encoded data removed]",
            "text/plain": [
              "<Figure size 640x480 with 1 Axes>"
            ]
          },
          "metadata": {},
          "output_type": "display_data"
        },
        {
          "data": {
            "image/png": "[encoded data removed]",
            "text/plain": [
              "<Figure size 640x480 with 1 Axes>"
            ]
          },
          "metadata": {},
          "output_type": "display_data"
        }
      ],
      "source": [
        "import random\n",
        "from PIL import Image\n",
        "from matplotlib import pyplot as plt\n",
        "\n",
        "for i in range(10):\n",
        "  train_dir_i = image_path / f\"train/{i}\"\n",
        "  image_path_list = list(train_dir_i.glob(\"*.jpg\"))\n",
        "\n",
        "  # 2. Pick a random path\n",
        "  random_image_path = random.choice(image_path_list)\n",
        "\n",
        "  # 4. Open image\n",
        "  img = Image.open(random_image_path)\n",
        "\n",
        "  # 5. Print sample image\n",
        "  plt.figure()\n",
        "  plt.imshow(img, cmap='gray')\n",
        "  plt.title(i)\n",
        "  plt.xticks([])\n",
        "  plt.yticks([])"
      ]
    },
    {
      "cell_type": "code",
      "execution_count": null,
      "metadata": {
        "colab": {
          "base_uri": "https://localhost:8080/"
        },
        "id": "NWZH7N1Kj2BR",
        "outputId": "c502b18f-70ff-48b0-e2ac-1b4a3d38c412"
      },
      "outputs": [
        {
          "name": "stdout",
          "output_type": "stream",
          "text": [
            "There are 0 directories and 5842 images in class 4.\n",
            "There are 0 directories and 4427 images in class 3.\n",
            "There are 0 directories and 9361 images in class 6.\n",
            "There are 0 directories and 6742 images in class 1.\n",
            "There are 0 directories and 2658 images in class 9.\n",
            "There are 0 directories and 5958 images in class 2.\n",
            "There are 0 directories and 1845 images in class 0.\n",
            "There are 0 directories and 11702 images in class 8.\n",
            "There are 0 directories and 5421 images in class 5.\n",
            "There are 0 directories and 12530 images in class 7.\n"
          ]
        }
      ],
      "source": [
        "import os\n",
        "# This array will store how many images in each class\n",
        "class_size_array = torch.zeros(10) # There are 10 classes, I implement the DigitDataset below so I can't get no of class here\n",
        "def walk_through_dir(dir_path):\n",
        "  for dirpath, dirnames, filenames in os.walk(dir_path):\n",
        "    class_name = os.path.basename(dirpath)\n",
        "    if class_name.isdigit():\n",
        "      num_pics_per_class = len(filenames)\n",
        "      class_size_array[int(class_name)] = num_pics_per_class # Here I save how many pics are there per class for WeightedRandomSampler calculation below\n",
        "      print(f\"There are {len(dirnames)} directories and {num_pics_per_class} images in class {class_name}.\")\n",
        "\n",
        "walk_through_dir(image_path / \"train\")"
      ]
    },
    {
      "cell_type": "code",
      "execution_count": null,
      "metadata": {
        "colab": {
          "base_uri": "https://localhost:8080/"
        },
        "id": "Nu4csC5kozLe",
        "outputId": "ed9f6835-f0f2-4a7b-bacc-a30463fd60a9"
      },
      "outputs": [
        {
          "name": "stdout",
          "output_type": "stream",
          "text": [
            "tensor([ 1845.,  6742.,  5958.,  4427.,  5842.,  5421.,  9361., 12530., 11702.,\n",
            "         2658.])\n"
          ]
        }
      ],
      "source": [
        "print(class_size_array)"
      ]
    },
    {
      "cell_type": "markdown",
      "metadata": {
        "id": "_c4RGgfbgE7W"
      },
      "source": [
        "From exploring the dataset, I found out that the number of each class in the train are not equal.\n",
        "\n",
        "For instance, class 7 is the class with the most images with 12530 images followed by class 8 with 11702 images. However, there are some classes with not many images like class 0 with only 1845 images or class 9 with 2658 images.\n",
        "\n"
      ]
    },
    {
      "cell_type": "markdown",
      "metadata": {
        "id": "jR0sVMcD8eXH"
      },
      "source": [
        "### Task 4: (15 points)\n",
        "\n",
        "Data has been organized in train and test folders, where samples from each digit are located in a folder with the digit as the folder name.\n",
        "Implement `DigitDataset` as a Map-style PyTorch dataset (read more about Map-style datasets [here]( https://pytorch.org/docs/stable/data.html#map-style-datasets) )"
      ]
    },
    {
      "cell_type": "code",
      "execution_count": null,
      "metadata": {
        "id": "oOH3nIpn2EwS"
      },
      "outputs": [],
      "source": [
        "#TODO: Implement the DigitDataset class here\n",
        "from torchvision import datasets, transforms\n",
        "transform = transforms.Compose([transforms.Grayscale(num_output_channels=1), transforms.ToTensor()])\n",
        "class DigitDataset:\n",
        "  def __init__(self, dataset_dir, transform, target_transform=None):\n",
        "    self.dataset_dir = dataset_dir\n",
        "    self.transform = transform\n",
        "    self.target_transform = target_transform\n",
        "    self.dataset_data = datasets.ImageFolder(root=dataset_dir,\n",
        "                                  transform=transform,\n",
        "                                  target_transform=target_transform)\n",
        "\n",
        "  def __getitem__(self, index):\n",
        "    image, label = self.dataset_data[index]\n",
        "    return image, label\n",
        "\n",
        "  def __len__(self):\n",
        "    return len(self.dataset_data)"
      ]
    },
    {
      "cell_type": "code",
      "execution_count": null,
      "metadata": {
        "id": "lpbF-0vGLife"
      },
      "outputs": [],
      "source": [
        "train_dir = data_path / \"MNISTDigit/train\"\n",
        "test_dir = data_path / \"MNISTDigit/test\""
      ]
    },
    {
      "cell_type": "markdown",
      "metadata": {
        "id": "Ao4fnByOPKmT"
      },
      "source": [
        "#### Task 5: (10 points)\n",
        "\n",
        "Use `DigitDataset` class to create `test_dataset` from samples in the test folder and to create `train_dataset` (80% of samples in train folder) and `valid_dataset` (20% of samples in train folder).\n",
        "\n",
        "For creating `train_dataset` and `valid_dataset`, you should use [`sklearn.model_selection.train_test_split`](https://scikit-learn.org/stable/modules/generated/sklearn.model_selection.train_test_split.html) and [`torch.utils.data.Subset`](https://pytorch.org/docs/stable/data.html#torch.utils.data.Subset) to split the dataset in a **stratified** manner."
      ]
    },
    {
      "cell_type": "code",
      "execution_count": null,
      "metadata": {
        "id": "9tLsPKsAPJOu"
      },
      "outputs": [],
      "source": [
        "from sklearn.model_selection import train_test_split\n",
        "from torch.utils.data import Subset\n",
        "#TODO: Add the mplementation here\n",
        "train_data = DigitDataset(dataset_dir=train_dir, transform=transform)\n",
        "train_dataset_indices, valid_dataset_indices = train_test_split(list(range(len(train_data))), test_size=0.2, random_state=42, stratify=train_data.dataset_data.targets)\n",
        "train_dataset = Subset(dataset=train_data, indices=train_dataset_indices)\n",
        "valid_dataset = Subset(dataset=train_data, indices=valid_dataset_indices)\n",
        "\n",
        "test_dataset = DigitDataset(dataset_dir=test_dir, transform=transform)"
      ]
    },
    {
      "cell_type": "code",
      "execution_count": null,
      "metadata": {
        "colab": {
          "base_uri": "https://localhost:8080/"
        },
        "id": "mIojML2Py0k_",
        "outputId": "c9a1158b-7905-499f-8217-5e05b8a5b5a7"
      },
      "outputs": [
        {
          "data": {
            "text/plain": [
              "(53188, 13298, 10000)"
            ]
          },
          "execution_count": 61,
          "metadata": {},
          "output_type": "execute_result"
        }
      ],
      "source": [
        "len(train_dataset), len(valid_dataset), len(test_dataset)"
      ]
    },
    {
      "cell_type": "markdown",
      "metadata": {
        "id": "Pej9bS2lfFkb"
      },
      "source": [
        "### Task 6: (5 points)\n",
        "Create dataloader objects for `train_dataset`, `validation_dataset`, and `test_dataset`. Fro `train_dataset`, you should use the [`WeightedRandomSampler`](https://pytorch.org/docs/stable/data.html#torch.utils.data.WeightedRandomSampler) all classes are contributing to the model training almost equally, i.e. in each batch, samples from each class have almost the same chance of contibuting to gradient calculation."
      ]
    },
    {
      "cell_type": "code",
      "execution_count": null,
      "metadata": {
        "colab": {
          "base_uri": "https://localhost:8080/"
        },
        "id": "FiXCIXkGiqYp",
        "outputId": "ed8b41c9-dd5c-40cd-81ec-1e6cb6227d99"
      },
      "outputs": [
        {
          "name": "stdout",
          "output_type": "stream",
          "text": [
            "7\n",
            "53188\n",
            "tensor([ 1845.,  6742.,  5958.,  4427.,  5842.,  5421.,  9361., 12530., 11702.,\n",
            "         2658.])\n",
            "10\n"
          ]
        }
      ],
      "source": [
        "# This is my test code to see what's the previous code print\n",
        "print(train_dataset[53187][1])\n",
        "print(len(train_dataset))\n",
        "print(class_size_array)\n",
        "print(len(train_data.dataset_data.classes))"
      ]
    },
    {
      "cell_type": "code",
      "execution_count": null,
      "metadata": {
        "id": "xd1zHUocfazi"
      },
      "outputs": [],
      "source": [
        "from torch.utils.data import WeightedRandomSampler\n",
        "#TODO: Add the implementation here\n",
        "train_dataset_length = len(train_dataset)\n",
        "train_dataset_weights = 1./torch.tensor(train_dataset_length)\n",
        "\n",
        "# This code will create an array so that the total weight of each class will be 1.0/10 (there are 10 classes)\n",
        "weight_for_sampler = torch.zeros(len(train_dataset))\n",
        "how_many_class = len(train_data.dataset_data.classes) # 10 classes\n",
        "for i in range(len(train_dataset)):\n",
        "    class_index = train_dataset[i][1]\n",
        "    weight_for_sampler[i] = 1. / (how_many_class * class_size_array[class_index])\n",
        "\n",
        "weight_sampler = WeightedRandomSampler(weights=weight_for_sampler, num_samples=train_dataset_length, replacement=True)\n",
        "\n",
        "from torch.utils.data import DataLoader\n",
        "batch_size = 32\n",
        "train_loader = DataLoader(train_dataset, batch_size, sampler=weight_sampler)\n",
        "test_loader = DataLoader(test_dataset, batch_size, shuffle=True)\n",
        "valid_loader = DataLoader(valid_dataset, batch_size, shuffle=True)"
      ]
    },
    {
      "cell_type": "code",
      "execution_count": null,
      "metadata": {
        "colab": {
          "base_uri": "https://localhost:8080/"
        },
        "id": "Oyiw5GUzXeHV",
        "outputId": "1a9d10f0-bfb2-4c20-d4bd-ce9af2721d0e"
      },
      "outputs": [
        {
          "name": "stdout",
          "output_type": "stream",
          "text": [
            "torch.Size([53188])\n",
            "tensor(7.9808e-06)\n"
          ]
        }
      ],
      "source": [
        "# Test code\n",
        "print(weight_for_sampler.shape)\n",
        "print(weight_for_sampler[53187])"
      ]
    },
    {
      "cell_type": "markdown",
      "metadata": {
        "id": "3_R2J6A1ahUS"
      },
      "source": [
        "### Task 7: (5 points)\n",
        "Develop an MLP model named `DigitClassification` for classifying digit images. The developed model should have four hidden layers of 256, 128, 64, and 32 neurons. Each hidden layer should be followed with a ReLU unit and a Dropout layer (p=0.2).\n"
      ]
    },
    {
      "cell_type": "code",
      "execution_count": null,
      "metadata": {
        "id": "WNsJAsisbdWm"
      },
      "outputs": [],
      "source": [
        "#TODO implement DigitClassification model here\n",
        "from torch import nn\n",
        "class DigitClassification(nn.Module):\n",
        "  def __init__(self):\n",
        "    super().__init__()\n",
        "\n",
        "    # Define the layer\n",
        "    self.layer = nn.Sequential(\n",
        "      nn.Flatten(),\n",
        "      nn.Linear(28*28, 256),\n",
        "      nn.ReLU(),\n",
        "      nn.Dropout(p=0.2),\n",
        "\n",
        "      nn.Linear(256, 128),\n",
        "      nn.ReLU(),\n",
        "      nn.Dropout(p=0.2),\n",
        "\n",
        "      nn.Linear(128, 64),\n",
        "      nn.ReLU(),\n",
        "      nn.Dropout(p=0.2),\n",
        "\n",
        "      nn.Linear(64, 32),\n",
        "      nn.ReLU(),\n",
        "      nn.Dropout(p=0.2),\n",
        "\n",
        "      nn.Linear(32, 10)\n",
        "    )\n",
        "\n",
        "  def forward(self, input):\n",
        "    return self.layer(input)\n",
        "\n",
        "model = DigitClassification()"
      ]
    },
    {
      "cell_type": "markdown",
      "metadata": {
        "id": "tZnMNV1Id_n1"
      },
      "source": [
        "### Task 8: (10 points)\n",
        "\n",
        "Implement a function for training and a function for evaluation. Then, train the model. You need to define the necessary components for model training. The evaluation code should calculate model *accuracy*, *sensitivity*, *specificity*, and *precision*. You should implement these metrics from scratch given the predictions and ground truth vectors/lists. For this assignment you should use macro-averaging when implementing  *sensitivity*, *specificity*, and *precision*.\n",
        "\n",
        "Note: You may adapt code from the class.\n",
        "\n",
        "\n"
      ]
    },
    {
      "cell_type": "code",
      "execution_count": null,
      "metadata": {
        "id": "fasQ5trPlvLl"
      },
      "outputs": [],
      "source": [
        "criterion = nn.CrossEntropyLoss()\n",
        "optimizer = torch.optim.SGD(model.parameters(), lr=0.01, momentum=0.9)\n",
        "device = torch.device(\"cuda\" if torch.cuda.is_available() else \"cpu\")\n",
        "model = model.to(device)"
      ]
    },
    {
      "cell_type": "code",
      "execution_count": null,
      "metadata": {
        "colab": {
          "base_uri": "https://localhost:8080/"
        },
        "id": "QySrbtVetyKs",
        "outputId": "6d7448a4-3a80-4eba-d3c0-ff401b00da7d"
      },
      "outputs": [
        {
          "name": "stdout",
          "output_type": "stream",
          "text": [
            "['0', '1', '2', '3', '4', '5', '6', '7', '8', '9']\n",
            "{'0': 0, '1': 1, '2': 2, '3': 3, '4': 4, '5': 5, '6': 6, '7': 7, '8': 8, '9': 9}\n",
            "10\n"
          ]
        }
      ],
      "source": [
        "# num_class = myDigitDataset.train_data.classes\n",
        "num_class = train_data.dataset_data.classes\n",
        "print(num_class)\n",
        "\n",
        "# class_idx = myDigitDataset.train_data.class_to_idx\n",
        "class_idx = train_data.dataset_data.class_to_idx\n",
        "print(class_idx)\n",
        "print(len(num_class))"
      ]
    },
    {
      "cell_type": "code",
      "execution_count": null,
      "metadata": {
        "id": "0nT3ixTAQ4QQ"
      },
      "outputs": [],
      "source": [
        "def evaluation(model, criterion, data_loader, device):\n",
        "  model.eval()\n",
        "  correct = 0\n",
        "  total = 0\n",
        "  sensitivity = 0\n",
        "  specificity = 0\n",
        "  precision = 0\n",
        "  true_positive_list = torch.zeros(len(num_class))\n",
        "  true_negative_list = torch.zeros(len(num_class))\n",
        "  false_positive_list = torch.zeros(len(num_class))\n",
        "  false_negative_list = torch.zeros(len(num_class))\n",
        "  eval_loss = 0\n",
        "\n",
        "  for images, labels in data_loader:\n",
        "    images = images.to(device)\n",
        "    labels = labels.to(device)\n",
        "    outputs = model(images)\n",
        "    eval_loss += criterion(outputs, labels) * images.size(0)\n",
        "    _, prediction = torch.max(outputs.data, 1)\n",
        "    total += images.size(0)\n",
        "    correct += (prediction == labels).sum().item()\n",
        "\n",
        "    for i in range(len(num_class)):\n",
        "        true_positive, true_negative, false_positive, false_negative = 0, 0, 0, 0\n",
        "        true_positive += ((prediction == i) & (labels == i)).sum().item()\n",
        "        true_negative += ((prediction != i) & (labels != i)).sum().item()\n",
        "        false_positive += ((prediction == i) & (labels != i)).sum().item()\n",
        "        false_negative += ((prediction != i) & (labels == i)).sum().item()\n",
        "        true_positive_list[i] += true_positive\n",
        "        true_negative_list[i] += true_negative\n",
        "        false_positive_list[i] += false_positive\n",
        "        false_negative_list[i] += false_negative\n",
        "\n",
        "  for i in range(len(num_class)):\n",
        "    sensitivity_for_class_i = true_positive_list[i] / (true_positive_list[i] + false_negative_list[i])\n",
        "    specificity_for_class_i = true_negative_list[i] / (true_negative_list[i] + false_positive_list[i])\n",
        "    precision_for_class_i = true_positive_list[i] / (true_positive_list[i] + false_positive_list[i])\n",
        "    # Sensitivity for all class\n",
        "    sensitivity += sensitivity_for_class_i\n",
        "    specificity += specificity_for_class_i\n",
        "    precision += precision_for_class_i\n",
        "\n",
        "  # Macro-average sensitivity\n",
        "  sensitivity /= len(num_class)\n",
        "  specificity /= len(num_class)\n",
        "  precision /= len(num_class)\n",
        "\n",
        "  accuracy = 100 * correct / total\n",
        "  eval_loss = eval_loss / total\n",
        "  print(f'Validation Accuracy: {accuracy:5.2f} | Sensitivity: {sensitivity:5.2f} | Specificity: {specificity:5.2f} | Precision: {precision:5.2f} | Loss: {eval_loss:5.2f}\\n')\n",
        "  return accuracy, sensitivity, specificity, precision, eval_loss\n",
        "\n",
        "# Initialization to save best model\n",
        "best_model = model.state_dict()\n",
        "MODEL_FOLDER_PATH = Path(\"models\")\n",
        "MODEL_FOLDER_PATH.mkdir(parents=True, exist_ok=True)\n",
        "MODEL_SAVED_PATH = MODEL_FOLDER_PATH / \"DL4Vision_A2.pth\"\n",
        "def train(train_loader, epochs, print_interval=1):\n",
        "  model.train()\n",
        "\n",
        "  validation_loss_old = 0\n",
        "  best_loss = torch.inf\n",
        "  highest_accuracy = 0\n",
        "\n",
        "  total = 0\n",
        "  correct = 0\n",
        "\n",
        "  for epoch in range(epochs):\n",
        "    train_loss = 0\n",
        "\n",
        "    sensitivity, specificity, precision = 0, 0, 0\n",
        "\n",
        "    true_positive_list = torch.zeros(len(num_class))\n",
        "    true_negative_list = torch.zeros(len(num_class))\n",
        "    false_positive_list = torch.zeros(len(num_class))\n",
        "    false_negative_list = torch.zeros(len(num_class))\n",
        "\n",
        "    for batch, (image, label) in enumerate(train_loader):\n",
        "      image = image.to(device)\n",
        "      label = label.to(device)\n",
        "      optimizer.zero_grad()\n",
        "      output = model(image)\n",
        "      loss = criterion(output, label)\n",
        "      train_loss += loss.item() * image.size(0)\n",
        "\n",
        "      loss.backward()\n",
        "      optimizer.step()\n",
        "\n",
        "      _, prediction = torch.max(output.data, 1)\n",
        "      total += image.size(0)\n",
        "      correct += (prediction == label).sum().item()\n",
        "\n",
        "      for i in range(len(num_class)):\n",
        "          true_positive, true_negative, false_positive, false_negative = 0, 0, 0, 0\n",
        "          true_positive += ((prediction == i) & (label == i)).sum().item()\n",
        "          true_negative += ((prediction != i) & (label != i)).sum().item()\n",
        "          false_positive += ((prediction == i) & (label != i)).sum().item()\n",
        "          false_negative += ((prediction != i) & (label == i)).sum().item()\n",
        "          true_positive_list[i] += true_positive\n",
        "          true_negative_list[i] += true_negative\n",
        "          false_positive_list[i] += false_positive\n",
        "          false_negative_list[i] += false_negative\n",
        "\n",
        "    for i in range(len(num_class)):\n",
        "      sensitivity_for_class_i = true_positive_list[i] / (true_positive_list[i] + false_negative_list[i])\n",
        "      specificity_for_class_i = true_negative_list[i] / (true_negative_list[i] + false_positive_list[i])\n",
        "      precision_for_class_i = true_positive_list[i] / (true_positive_list[i] + false_positive_list[i])\n",
        "      # Sensitivity for all class\n",
        "      sensitivity += sensitivity_for_class_i\n",
        "      specificity += specificity_for_class_i\n",
        "      precision += precision_for_class_i\n",
        "\n",
        "      # Macro-average sensitivity\n",
        "    sensitivity /= len(num_class)\n",
        "    specificity /= len(num_class)\n",
        "    precision /= len(num_class)\n",
        "\n",
        "\n",
        "    if batch % print_interval == 0:\n",
        "      accuracy = 100 * correct / total\n",
        "      loss = train_loss / total\n",
        "      print(f'Epoch: {epoch+1} | Train Accuracy: {accuracy:5.2f} | Sensitivity: {sensitivity:5.2f} | Specificity: {specificity:5.2f} | Precision: {precision:5.2f} | Loss: {loss:5.2f}')\n",
        "      with torch.no_grad():\n",
        "        e_accuracy, e_sensitivity, e_specificity, e_precision, eval_loss = evaluation(model, criterion, test_loader, device)\n",
        "        if (eval_loss < best_loss):\n",
        "          highest_accuracy = e_accuracy # I want the highest accuracy to be the accuracy of the epoch with the lowest loss\n",
        "          best_loss = eval_loss\n",
        "          best_model = model.state_dict()\n",
        "          torch.save(obj=best_model, f=MODEL_SAVED_PATH)\n",
        "        elif (eval_loss == best_loss and e_accuracy > highest_accuracy):\n",
        "          highest_accuracy = e_accuracy\n",
        "          best_loss = eval_loss\n",
        "          best_model = model.state_dict()\n",
        "          torch.save(obj=best_model, f=MODEL_SAVED_PATH)"
      ]
    },
    {
      "cell_type": "markdown",
      "metadata": {
        "id": "T8uSNlodMVw-"
      },
      "source": [
        "### Task 9: (5 points)\n",
        "\n",
        "Train the model for 100 epochs. Training and validation *accuracy*, *sensitivity*, *specificity*, *precision* and *loss* should be printed for each epoch for both training and validation sets."
      ]
    },
    {
      "cell_type": "code",
      "execution_count": null,
      "metadata": {
        "colab": {
          "background_save": true,
          "base_uri": "https://localhost:8080/"
        },
        "id": "e6VcmdcJE76P",
        "outputId": "eebff22b-bffa-4495-b0a8-55a0ad70f64c"
      },
      "outputs": [
        {
          "name": "stdout",
          "output_type": "stream",
          "text": [
            "Epoch: 1 | Train Accuracy: 69.94 | Sensitivity:  0.70 | Specificity:  0.97 | Precision:  0.72 | Loss:  0.89\n",
            "Validation Accuracy: 93.23 | Sensitivity:  0.93 | Specificity:  0.99 | Precision:  0.93 | Loss:  0.23\n",
            "\n",
            "Epoch: 2 | Train Accuracy: 83.01 | Sensitivity:  0.96 | Specificity:  1.00 | Precision:  0.96 | Loss:  0.07\n",
            "Validation Accuracy: 96.16 | Sensitivity:  0.96 | Specificity:  1.00 | Precision:  0.96 | Loss:  0.13\n",
            "\n",
            "Epoch: 3 | Train Accuracy: 87.89 | Sensitivity:  0.98 | Specificity:  1.00 | Precision:  0.98 | Loss:  0.03\n",
            "Validation Accuracy: 96.54 | Sensitivity:  0.97 | Specificity:  1.00 | Precision:  0.97 | Loss:  0.12\n",
            "\n",
            "Epoch: 4 | Train Accuracy: 90.52 | Sensitivity:  0.98 | Specificity:  1.00 | Precision:  0.98 | Loss:  0.01\n",
            "Validation Accuracy: 97.07 | Sensitivity:  0.97 | Specificity:  1.00 | Precision:  0.97 | Loss:  0.10\n",
            "\n",
            "Epoch: 5 | Train Accuracy: 92.16 | Sensitivity:  0.99 | Specificity:  1.00 | Precision:  0.99 | Loss:  0.01\n",
            "Validation Accuracy: 96.86 | Sensitivity:  0.97 | Specificity:  1.00 | Precision:  0.97 | Loss:  0.11\n",
            "\n",
            "Epoch: 6 | Train Accuracy: 93.31 | Sensitivity:  0.99 | Specificity:  1.00 | Precision:  0.99 | Loss:  0.01\n",
            "Validation Accuracy: 97.31 | Sensitivity:  0.97 | Specificity:  1.00 | Precision:  0.97 | Loss:  0.10\n",
            "\n",
            "Epoch: 7 | Train Accuracy: 94.14 | Sensitivity:  0.99 | Specificity:  1.00 | Precision:  0.99 | Loss:  0.00\n",
            "Validation Accuracy: 97.52 | Sensitivity:  0.98 | Specificity:  1.00 | Precision:  0.98 | Loss:  0.10\n",
            "\n",
            "Epoch: 8 | Train Accuracy: 94.78 | Sensitivity:  0.99 | Specificity:  1.00 | Precision:  0.99 | Loss:  0.00\n",
            "Validation Accuracy: 97.06 | Sensitivity:  0.97 | Specificity:  1.00 | Precision:  0.97 | Loss:  0.12\n",
            "\n",
            "Epoch: 9 | Train Accuracy: 95.30 | Sensitivity:  0.99 | Specificity:  1.00 | Precision:  0.99 | Loss:  0.00\n",
            "Validation Accuracy: 97.27 | Sensitivity:  0.97 | Specificity:  1.00 | Precision:  0.97 | Loss:  0.12\n",
            "\n",
            "Epoch: 10 | Train Accuracy: 95.72 | Sensitivity:  1.00 | Specificity:  1.00 | Precision:  1.00 | Loss:  0.00\n",
            "Validation Accuracy: 97.64 | Sensitivity:  0.98 | Specificity:  1.00 | Precision:  0.98 | Loss:  0.11\n",
            "\n",
            "Epoch: 11 | Train Accuracy: 96.07 | Sensitivity:  1.00 | Specificity:  1.00 | Precision:  1.00 | Loss:  0.00\n",
            "Validation Accuracy: 97.48 | Sensitivity:  0.97 | Specificity:  1.00 | Precision:  0.97 | Loss:  0.12\n",
            "\n",
            "Epoch: 12 | Train Accuracy: 96.37 | Sensitivity:  1.00 | Specificity:  1.00 | Precision:  1.00 | Loss:  0.00\n",
            "Validation Accuracy: 97.74 | Sensitivity:  0.98 | Specificity:  1.00 | Precision:  0.98 | Loss:  0.11\n",
            "\n",
            "Epoch: 13 | Train Accuracy: 96.62 | Sensitivity:  1.00 | Specificity:  1.00 | Precision:  1.00 | Loss:  0.00\n",
            "Validation Accuracy: 97.59 | Sensitivity:  0.98 | Specificity:  1.00 | Precision:  0.98 | Loss:  0.12\n",
            "\n",
            "Epoch: 14 | Train Accuracy: 96.84 | Sensitivity:  1.00 | Specificity:  1.00 | Precision:  1.00 | Loss:  0.00\n",
            "Validation Accuracy: 97.63 | Sensitivity:  0.98 | Specificity:  1.00 | Precision:  0.98 | Loss:  0.12\n",
            "\n",
            "Epoch: 15 | Train Accuracy: 97.04 | Sensitivity:  1.00 | Specificity:  1.00 | Precision:  1.00 | Loss:  0.00\n",
            "Validation Accuracy: 97.65 | Sensitivity:  0.98 | Specificity:  1.00 | Precision:  0.98 | Loss:  0.13\n",
            "\n",
            "Epoch: 16 | Train Accuracy: 97.21 | Sensitivity:  1.00 | Specificity:  1.00 | Precision:  1.00 | Loss:  0.00\n",
            "Validation Accuracy: 97.98 | Sensitivity:  0.98 | Specificity:  1.00 | Precision:  0.98 | Loss:  0.11\n",
            "\n",
            "Epoch: 17 | Train Accuracy: 97.37 | Sensitivity:  1.00 | Specificity:  1.00 | Precision:  1.00 | Loss:  0.00\n",
            "Validation Accuracy: 97.76 | Sensitivity:  0.98 | Specificity:  1.00 | Precision:  0.98 | Loss:  0.12\n",
            "\n",
            "Epoch: 18 | Train Accuracy: 97.51 | Sensitivity:  1.00 | Specificity:  1.00 | Precision:  1.00 | Loss:  0.00\n",
            "Validation Accuracy: 97.84 | Sensitivity:  0.98 | Specificity:  1.00 | Precision:  0.98 | Loss:  0.12\n",
            "\n",
            "Epoch: 19 | Train Accuracy: 97.64 | Sensitivity:  1.00 | Specificity:  1.00 | Precision:  1.00 | Loss:  0.00\n",
            "Validation Accuracy: 97.81 | Sensitivity:  0.98 | Specificity:  1.00 | Precision:  0.98 | Loss:  0.13\n",
            "\n",
            "Epoch: 20 | Train Accuracy: 97.75 | Sensitivity:  1.00 | Specificity:  1.00 | Precision:  1.00 | Loss:  0.00\n",
            "Validation Accuracy: 97.62 | Sensitivity:  0.98 | Specificity:  1.00 | Precision:  0.98 | Loss:  0.13\n",
            "\n",
            "Epoch: 21 | Train Accuracy: 97.85 | Sensitivity:  1.00 | Specificity:  1.00 | Precision:  1.00 | Loss:  0.00\n",
            "Validation Accuracy: 97.54 | Sensitivity:  0.98 | Specificity:  1.00 | Precision:  0.98 | Loss:  0.14\n",
            "\n",
            "Epoch: 22 | Train Accuracy: 97.94 | Sensitivity:  1.00 | Specificity:  1.00 | Precision:  1.00 | Loss:  0.00\n",
            "Validation Accuracy: 97.83 | Sensitivity:  0.98 | Specificity:  1.00 | Precision:  0.98 | Loss:  0.12\n",
            "\n",
            "Epoch: 23 | Train Accuracy: 98.03 | Sensitivity:  1.00 | Specificity:  1.00 | Precision:  1.00 | Loss:  0.00\n",
            "Validation Accuracy: 97.82 | Sensitivity:  0.98 | Specificity:  1.00 | Precision:  0.98 | Loss:  0.13\n",
            "\n",
            "Epoch: 24 | Train Accuracy: 98.11 | Sensitivity:  1.00 | Specificity:  1.00 | Precision:  1.00 | Loss:  0.00\n",
            "Validation Accuracy: 97.78 | Sensitivity:  0.98 | Specificity:  1.00 | Precision:  0.98 | Loss:  0.13\n",
            "\n",
            "Epoch: 25 | Train Accuracy: 98.18 | Sensitivity:  1.00 | Specificity:  1.00 | Precision:  1.00 | Loss:  0.00\n",
            "Validation Accuracy: 98.03 | Sensitivity:  0.98 | Specificity:  1.00 | Precision:  0.98 | Loss:  0.12\n",
            "\n",
            "Epoch: 26 | Train Accuracy: 98.25 | Sensitivity:  1.00 | Specificity:  1.00 | Precision:  1.00 | Loss:  0.00\n",
            "Validation Accuracy: 98.06 | Sensitivity:  0.98 | Specificity:  1.00 | Precision:  0.98 | Loss:  0.12\n",
            "\n",
            "Epoch: 27 | Train Accuracy: 98.31 | Sensitivity:  1.00 | Specificity:  1.00 | Precision:  1.00 | Loss:  0.00\n",
            "Validation Accuracy: 97.87 | Sensitivity:  0.98 | Specificity:  1.00 | Precision:  0.98 | Loss:  0.13\n",
            "\n",
            "Epoch: 28 | Train Accuracy: 98.37 | Sensitivity:  1.00 | Specificity:  1.00 | Precision:  1.00 | Loss:  0.00\n",
            "Validation Accuracy: 97.60 | Sensitivity:  0.98 | Specificity:  1.00 | Precision:  0.98 | Loss:  0.14\n",
            "\n",
            "Epoch: 29 | Train Accuracy: 98.43 | Sensitivity:  1.00 | Specificity:  1.00 | Precision:  1.00 | Loss:  0.00\n",
            "Validation Accuracy: 97.82 | Sensitivity:  0.98 | Specificity:  1.00 | Precision:  0.98 | Loss:  0.15\n",
            "\n",
            "Epoch: 30 | Train Accuracy: 98.48 | Sensitivity:  1.00 | Specificity:  1.00 | Precision:  1.00 | Loss:  0.00\n",
            "Validation Accuracy: 97.80 | Sensitivity:  0.98 | Specificity:  1.00 | Precision:  0.98 | Loss:  0.14\n",
            "\n",
            "Epoch: 31 | Train Accuracy: 98.52 | Sensitivity:  1.00 | Specificity:  1.00 | Precision:  1.00 | Loss:  0.00\n",
            "Validation Accuracy: 97.99 | Sensitivity:  0.98 | Specificity:  1.00 | Precision:  0.98 | Loss:  0.12\n",
            "\n",
            "Epoch: 32 | Train Accuracy: 98.57 | Sensitivity:  1.00 | Specificity:  1.00 | Precision:  1.00 | Loss:  0.00\n",
            "Validation Accuracy: 98.14 | Sensitivity:  0.98 | Specificity:  1.00 | Precision:  0.98 | Loss:  0.12\n",
            "\n",
            "Epoch: 33 | Train Accuracy: 98.61 | Sensitivity:  1.00 | Specificity:  1.00 | Precision:  1.00 | Loss:  0.00\n",
            "Validation Accuracy: 97.79 | Sensitivity:  0.98 | Specificity:  1.00 | Precision:  0.98 | Loss:  0.14\n",
            "\n",
            "Epoch: 34 | Train Accuracy: 98.64 | Sensitivity:  1.00 | Specificity:  1.00 | Precision:  1.00 | Loss:  0.00\n",
            "Validation Accuracy: 97.63 | Sensitivity:  0.98 | Specificity:  1.00 | Precision:  0.98 | Loss:  0.12\n",
            "\n",
            "Epoch: 35 | Train Accuracy: 98.68 | Sensitivity:  1.00 | Specificity:  1.00 | Precision:  1.00 | Loss:  0.00\n",
            "Validation Accuracy: 97.72 | Sensitivity:  0.98 | Specificity:  1.00 | Precision:  0.98 | Loss:  0.12\n",
            "\n",
            "Epoch: 36 | Train Accuracy: 98.71 | Sensitivity:  1.00 | Specificity:  1.00 | Precision:  1.00 | Loss:  0.00\n",
            "Validation Accuracy: 98.01 | Sensitivity:  0.98 | Specificity:  1.00 | Precision:  0.98 | Loss:  0.12\n",
            "\n",
            "Epoch: 37 | Train Accuracy: 98.74 | Sensitivity:  1.00 | Specificity:  1.00 | Precision:  1.00 | Loss:  0.00\n",
            "Validation Accuracy: 98.07 | Sensitivity:  0.98 | Specificity:  1.00 | Precision:  0.98 | Loss:  0.12\n",
            "\n",
            "Epoch: 38 | Train Accuracy: 98.78 | Sensitivity:  1.00 | Specificity:  1.00 | Precision:  1.00 | Loss:  0.00\n",
            "Validation Accuracy: 98.07 | Sensitivity:  0.98 | Specificity:  1.00 | Precision:  0.98 | Loss:  0.12\n",
            "\n",
            "Epoch: 39 | Train Accuracy: 98.81 | Sensitivity:  1.00 | Specificity:  1.00 | Precision:  1.00 | Loss:  0.00\n",
            "Validation Accuracy: 98.10 | Sensitivity:  0.98 | Specificity:  1.00 | Precision:  0.98 | Loss:  0.13\n",
            "\n",
            "Epoch: 40 | Train Accuracy: 98.84 | Sensitivity:  1.00 | Specificity:  1.00 | Precision:  1.00 | Loss:  0.00\n",
            "Validation Accuracy: 98.10 | Sensitivity:  0.98 | Specificity:  1.00 | Precision:  0.98 | Loss:  0.13\n",
            "\n",
            "Epoch: 41 | Train Accuracy: 98.87 | Sensitivity:  1.00 | Specificity:  1.00 | Precision:  1.00 | Loss:  0.00\n",
            "Validation Accuracy: 98.09 | Sensitivity:  0.98 | Specificity:  1.00 | Precision:  0.98 | Loss:  0.13\n",
            "\n",
            "Epoch: 42 | Train Accuracy: 98.89 | Sensitivity:  1.00 | Specificity:  1.00 | Precision:  1.00 | Loss:  0.00\n",
            "Validation Accuracy: 98.11 | Sensitivity:  0.98 | Specificity:  1.00 | Precision:  0.98 | Loss:  0.13\n",
            "\n",
            "Epoch: 43 | Train Accuracy: 98.92 | Sensitivity:  1.00 | Specificity:  1.00 | Precision:  1.00 | Loss:  0.00\n",
            "Validation Accuracy: 98.12 | Sensitivity:  0.98 | Specificity:  1.00 | Precision:  0.98 | Loss:  0.13\n",
            "\n",
            "Epoch: 44 | Train Accuracy: 98.94 | Sensitivity:  1.00 | Specificity:  1.00 | Precision:  1.00 | Loss:  0.00\n",
            "Validation Accuracy: 98.11 | Sensitivity:  0.98 | Specificity:  1.00 | Precision:  0.98 | Loss:  0.13\n",
            "\n",
            "Epoch: 45 | Train Accuracy: 98.97 | Sensitivity:  1.00 | Specificity:  1.00 | Precision:  1.00 | Loss:  0.00\n",
            "Validation Accuracy: 98.13 | Sensitivity:  0.98 | Specificity:  1.00 | Precision:  0.98 | Loss:  0.13\n",
            "\n",
            "Epoch: 46 | Train Accuracy: 98.99 | Sensitivity:  1.00 | Specificity:  1.00 | Precision:  1.00 | Loss:  0.00\n",
            "Validation Accuracy: 98.14 | Sensitivity:  0.98 | Specificity:  1.00 | Precision:  0.98 | Loss:  0.13\n",
            "\n",
            "Epoch: 47 | Train Accuracy: 99.01 | Sensitivity:  1.00 | Specificity:  1.00 | Precision:  1.00 | Loss:  0.00\n",
            "Validation Accuracy: 98.11 | Sensitivity:  0.98 | Specificity:  1.00 | Precision:  0.98 | Loss:  0.13\n",
            "\n",
            "Epoch: 48 | Train Accuracy: 99.03 | Sensitivity:  1.00 | Specificity:  1.00 | Precision:  1.00 | Loss:  0.00\n",
            "Validation Accuracy: 98.11 | Sensitivity:  0.98 | Specificity:  1.00 | Precision:  0.98 | Loss:  0.13\n",
            "\n",
            "Epoch: 49 | Train Accuracy: 99.05 | Sensitivity:  1.00 | Specificity:  1.00 | Precision:  1.00 | Loss:  0.00\n",
            "Validation Accuracy: 98.13 | Sensitivity:  0.98 | Specificity:  1.00 | Precision:  0.98 | Loss:  0.13\n",
            "\n",
            "Epoch: 50 | Train Accuracy: 99.07 | Sensitivity:  1.00 | Specificity:  1.00 | Precision:  1.00 | Loss:  0.00\n",
            "Validation Accuracy: 98.12 | Sensitivity:  0.98 | Specificity:  1.00 | Precision:  0.98 | Loss:  0.13\n",
            "\n",
            "Epoch: 51 | Train Accuracy: 99.09 | Sensitivity:  1.00 | Specificity:  1.00 | Precision:  1.00 | Loss:  0.00\n",
            "Validation Accuracy: 98.13 | Sensitivity:  0.98 | Specificity:  1.00 | Precision:  0.98 | Loss:  0.13\n",
            "\n",
            "Epoch: 52 | Train Accuracy: 99.11 | Sensitivity:  1.00 | Specificity:  1.00 | Precision:  1.00 | Loss:  0.00\n",
            "Validation Accuracy: 98.10 | Sensitivity:  0.98 | Specificity:  1.00 | Precision:  0.98 | Loss:  0.13\n",
            "\n",
            "Epoch: 53 | Train Accuracy: 99.12 | Sensitivity:  1.00 | Specificity:  1.00 | Precision:  1.00 | Loss:  0.00\n",
            "Validation Accuracy: 98.11 | Sensitivity:  0.98 | Specificity:  1.00 | Precision:  0.98 | Loss:  0.13\n",
            "\n",
            "Epoch: 54 | Train Accuracy: 99.14 | Sensitivity:  1.00 | Specificity:  1.00 | Precision:  1.00 | Loss:  0.00\n",
            "Validation Accuracy: 98.12 | Sensitivity:  0.98 | Specificity:  1.00 | Precision:  0.98 | Loss:  0.13\n",
            "\n",
            "Epoch: 55 | Train Accuracy: 99.15 | Sensitivity:  1.00 | Specificity:  1.00 | Precision:  1.00 | Loss:  0.00\n",
            "Validation Accuracy: 98.12 | Sensitivity:  0.98 | Specificity:  1.00 | Precision:  0.98 | Loss:  0.14\n",
            "\n",
            "Epoch: 56 | Train Accuracy: 99.17 | Sensitivity:  1.00 | Specificity:  1.00 | Precision:  1.00 | Loss:  0.00\n",
            "Validation Accuracy: 98.12 | Sensitivity:  0.98 | Specificity:  1.00 | Precision:  0.98 | Loss:  0.14\n",
            "\n",
            "Epoch: 57 | Train Accuracy: 99.18 | Sensitivity:  1.00 | Specificity:  1.00 | Precision:  1.00 | Loss:  0.00\n",
            "Validation Accuracy: 98.12 | Sensitivity:  0.98 | Specificity:  1.00 | Precision:  0.98 | Loss:  0.14\n",
            "\n",
            "Epoch: 58 | Train Accuracy: 99.20 | Sensitivity:  1.00 | Specificity:  1.00 | Precision:  1.00 | Loss:  0.00\n",
            "Validation Accuracy: 98.12 | Sensitivity:  0.98 | Specificity:  1.00 | Precision:  0.98 | Loss:  0.14\n",
            "\n",
            "Epoch: 59 | Train Accuracy: 99.21 | Sensitivity:  1.00 | Specificity:  1.00 | Precision:  1.00 | Loss:  0.00\n",
            "Validation Accuracy: 98.12 | Sensitivity:  0.98 | Specificity:  1.00 | Precision:  0.98 | Loss:  0.14\n",
            "\n",
            "Epoch: 60 | Train Accuracy: 99.23 | Sensitivity:  1.00 | Specificity:  1.00 | Precision:  1.00 | Loss:  0.00\n",
            "Validation Accuracy: 98.12 | Sensitivity:  0.98 | Specificity:  1.00 | Precision:  0.98 | Loss:  0.14\n",
            "\n",
            "Epoch: 61 | Train Accuracy: 99.24 | Sensitivity:  1.00 | Specificity:  1.00 | Precision:  1.00 | Loss:  0.00\n",
            "Validation Accuracy: 98.12 | Sensitivity:  0.98 | Specificity:  1.00 | Precision:  0.98 | Loss:  0.14\n",
            "\n",
            "Epoch: 62 | Train Accuracy: 99.25 | Sensitivity:  1.00 | Specificity:  1.00 | Precision:  1.00 | Loss:  0.00\n",
            "Validation Accuracy: 98.11 | Sensitivity:  0.98 | Specificity:  1.00 | Precision:  0.98 | Loss:  0.14\n",
            "\n",
            "Epoch: 63 | Train Accuracy: 99.26 | Sensitivity:  1.00 | Specificity:  1.00 | Precision:  1.00 | Loss:  0.00\n",
            "Validation Accuracy: 98.10 | Sensitivity:  0.98 | Specificity:  1.00 | Precision:  0.98 | Loss:  0.14\n",
            "\n",
            "Epoch: 64 | Train Accuracy: 99.27 | Sensitivity:  1.00 | Specificity:  1.00 | Precision:  1.00 | Loss:  0.00\n",
            "Validation Accuracy: 98.11 | Sensitivity:  0.98 | Specificity:  1.00 | Precision:  0.98 | Loss:  0.14\n",
            "\n",
            "Epoch: 65 | Train Accuracy: 99.28 | Sensitivity:  1.00 | Specificity:  1.00 | Precision:  1.00 | Loss:  0.00\n",
            "Validation Accuracy: 98.11 | Sensitivity:  0.98 | Specificity:  1.00 | Precision:  0.98 | Loss:  0.14\n",
            "\n",
            "Epoch: 66 | Train Accuracy: 99.30 | Sensitivity:  1.00 | Specificity:  1.00 | Precision:  1.00 | Loss:  0.00\n",
            "Validation Accuracy: 98.11 | Sensitivity:  0.98 | Specificity:  1.00 | Precision:  0.98 | Loss:  0.14\n",
            "\n",
            "Epoch: 67 | Train Accuracy: 99.31 | Sensitivity:  1.00 | Specificity:  1.00 | Precision:  1.00 | Loss:  0.00\n",
            "Validation Accuracy: 98.11 | Sensitivity:  0.98 | Specificity:  1.00 | Precision:  0.98 | Loss:  0.14\n",
            "\n",
            "Epoch: 68 | Train Accuracy: 99.32 | Sensitivity:  1.00 | Specificity:  1.00 | Precision:  1.00 | Loss:  0.00\n",
            "Validation Accuracy: 98.10 | Sensitivity:  0.98 | Specificity:  1.00 | Precision:  0.98 | Loss:  0.14\n",
            "\n",
            "Epoch: 69 | Train Accuracy: 99.33 | Sensitivity:  1.00 | Specificity:  1.00 | Precision:  1.00 | Loss:  0.00\n",
            "Validation Accuracy: 98.10 | Sensitivity:  0.98 | Specificity:  1.00 | Precision:  0.98 | Loss:  0.14\n",
            "\n",
            "Epoch: 70 | Train Accuracy: 99.34 | Sensitivity:  1.00 | Specificity:  1.00 | Precision:  1.00 | Loss:  0.00\n",
            "Validation Accuracy: 98.10 | Sensitivity:  0.98 | Specificity:  1.00 | Precision:  0.98 | Loss:  0.14\n",
            "\n",
            "Epoch: 71 | Train Accuracy: 99.35 | Sensitivity:  1.00 | Specificity:  1.00 | Precision:  1.00 | Loss:  0.00\n",
            "Validation Accuracy: 98.10 | Sensitivity:  0.98 | Specificity:  1.00 | Precision:  0.98 | Loss:  0.14\n",
            "\n",
            "Epoch: 72 | Train Accuracy: 99.35 | Sensitivity:  1.00 | Specificity:  1.00 | Precision:  1.00 | Loss:  0.00\n",
            "Validation Accuracy: 98.12 | Sensitivity:  0.98 | Specificity:  1.00 | Precision:  0.98 | Loss:  0.14\n",
            "\n",
            "Epoch: 73 | Train Accuracy: 99.36 | Sensitivity:  1.00 | Specificity:  1.00 | Precision:  1.00 | Loss:  0.00\n",
            "Validation Accuracy: 98.10 | Sensitivity:  0.98 | Specificity:  1.00 | Precision:  0.98 | Loss:  0.14\n",
            "\n",
            "Epoch: 74 | Train Accuracy: 99.37 | Sensitivity:  1.00 | Specificity:  1.00 | Precision:  1.00 | Loss:  0.00\n",
            "Validation Accuracy: 98.12 | Sensitivity:  0.98 | Specificity:  1.00 | Precision:  0.98 | Loss:  0.14\n",
            "\n",
            "Epoch: 75 | Train Accuracy: 99.38 | Sensitivity:  1.00 | Specificity:  1.00 | Precision:  1.00 | Loss:  0.00\n",
            "Validation Accuracy: 98.12 | Sensitivity:  0.98 | Specificity:  1.00 | Precision:  0.98 | Loss:  0.14\n",
            "\n",
            "Epoch: 76 | Train Accuracy: 99.39 | Sensitivity:  1.00 | Specificity:  1.00 | Precision:  1.00 | Loss:  0.00\n",
            "Validation Accuracy: 98.12 | Sensitivity:  0.98 | Specificity:  1.00 | Precision:  0.98 | Loss:  0.14\n",
            "\n",
            "Epoch: 77 | Train Accuracy: 99.40 | Sensitivity:  1.00 | Specificity:  1.00 | Precision:  1.00 | Loss:  0.00\n",
            "Validation Accuracy: 98.11 | Sensitivity:  0.98 | Specificity:  1.00 | Precision:  0.98 | Loss:  0.14\n",
            "\n",
            "Epoch: 78 | Train Accuracy: 99.40 | Sensitivity:  1.00 | Specificity:  1.00 | Precision:  1.00 | Loss:  0.00\n",
            "Validation Accuracy: 98.11 | Sensitivity:  0.98 | Specificity:  1.00 | Precision:  0.98 | Loss:  0.14\n",
            "\n",
            "Epoch: 79 | Train Accuracy: 99.41 | Sensitivity:  1.00 | Specificity:  1.00 | Precision:  1.00 | Loss:  0.00\n",
            "Validation Accuracy: 98.12 | Sensitivity:  0.98 | Specificity:  1.00 | Precision:  0.98 | Loss:  0.14\n",
            "\n",
            "Epoch: 80 | Train Accuracy: 99.42 | Sensitivity:  1.00 | Specificity:  1.00 | Precision:  1.00 | Loss:  0.00\n",
            "Validation Accuracy: 98.11 | Sensitivity:  0.98 | Specificity:  1.00 | Precision:  0.98 | Loss:  0.14\n",
            "\n",
            "Epoch: 81 | Train Accuracy: 99.43 | Sensitivity:  1.00 | Specificity:  1.00 | Precision:  1.00 | Loss:  0.00\n",
            "Validation Accuracy: 98.12 | Sensitivity:  0.98 | Specificity:  1.00 | Precision:  0.98 | Loss:  0.14\n",
            "\n",
            "Epoch: 82 | Train Accuracy: 99.43 | Sensitivity:  1.00 | Specificity:  1.00 | Precision:  1.00 | Loss:  0.00\n",
            "Validation Accuracy: 98.12 | Sensitivity:  0.98 | Specificity:  1.00 | Precision:  0.98 | Loss:  0.14\n",
            "\n",
            "Epoch: 83 | Train Accuracy: 99.44 | Sensitivity:  1.00 | Specificity:  1.00 | Precision:  1.00 | Loss:  0.00\n",
            "Validation Accuracy: 98.12 | Sensitivity:  0.98 | Specificity:  1.00 | Precision:  0.98 | Loss:  0.14\n",
            "\n",
            "Epoch: 84 | Train Accuracy: 99.45 | Sensitivity:  1.00 | Specificity:  1.00 | Precision:  1.00 | Loss:  0.00\n",
            "Validation Accuracy: 98.12 | Sensitivity:  0.98 | Specificity:  1.00 | Precision:  0.98 | Loss:  0.14\n",
            "\n",
            "Epoch: 85 | Train Accuracy: 99.45 | Sensitivity:  1.00 | Specificity:  1.00 | Precision:  1.00 | Loss:  0.00\n",
            "Validation Accuracy: 98.12 | Sensitivity:  0.98 | Specificity:  1.00 | Precision:  0.98 | Loss:  0.14\n",
            "\n",
            "Epoch: 86 | Train Accuracy: 99.46 | Sensitivity:  1.00 | Specificity:  1.00 | Precision:  1.00 | Loss:  0.00\n",
            "Validation Accuracy: 98.11 | Sensitivity:  0.98 | Specificity:  1.00 | Precision:  0.98 | Loss:  0.14\n",
            "\n",
            "Epoch: 87 | Train Accuracy: 99.47 | Sensitivity:  1.00 | Specificity:  1.00 | Precision:  1.00 | Loss:  0.00\n",
            "Validation Accuracy: 98.12 | Sensitivity:  0.98 | Specificity:  1.00 | Precision:  0.98 | Loss:  0.14\n",
            "\n",
            "Epoch: 88 | Train Accuracy: 99.47 | Sensitivity:  1.00 | Specificity:  1.00 | Precision:  1.00 | Loss:  0.00\n",
            "Validation Accuracy: 98.13 | Sensitivity:  0.98 | Specificity:  1.00 | Precision:  0.98 | Loss:  0.14\n",
            "\n",
            "Epoch: 89 | Train Accuracy: 99.48 | Sensitivity:  1.00 | Specificity:  1.00 | Precision:  1.00 | Loss:  0.00\n",
            "Validation Accuracy: 98.13 | Sensitivity:  0.98 | Specificity:  1.00 | Precision:  0.98 | Loss:  0.14\n",
            "\n",
            "Epoch: 90 | Train Accuracy: 99.48 | Sensitivity:  1.00 | Specificity:  1.00 | Precision:  1.00 | Loss:  0.00\n",
            "Validation Accuracy: 98.13 | Sensitivity:  0.98 | Specificity:  1.00 | Precision:  0.98 | Loss:  0.14\n",
            "\n",
            "Epoch: 91 | Train Accuracy: 99.49 | Sensitivity:  1.00 | Specificity:  1.00 | Precision:  1.00 | Loss:  0.00\n",
            "Validation Accuracy: 98.14 | Sensitivity:  0.98 | Specificity:  1.00 | Precision:  0.98 | Loss:  0.14\n",
            "\n",
            "Epoch: 92 | Train Accuracy: 99.49 | Sensitivity:  1.00 | Specificity:  1.00 | Precision:  1.00 | Loss:  0.00\n",
            "Validation Accuracy: 98.13 | Sensitivity:  0.98 | Specificity:  1.00 | Precision:  0.98 | Loss:  0.14\n",
            "\n",
            "Epoch: 93 | Train Accuracy: 99.50 | Sensitivity:  1.00 | Specificity:  1.00 | Precision:  1.00 | Loss:  0.00\n",
            "Validation Accuracy: 98.13 | Sensitivity:  0.98 | Specificity:  1.00 | Precision:  0.98 | Loss:  0.14\n",
            "\n",
            "Epoch: 94 | Train Accuracy: 99.51 | Sensitivity:  1.00 | Specificity:  1.00 | Precision:  1.00 | Loss:  0.00\n",
            "Validation Accuracy: 98.13 | Sensitivity:  0.98 | Specificity:  1.00 | Precision:  0.98 | Loss:  0.15\n",
            "\n",
            "Epoch: 95 | Train Accuracy: 99.51 | Sensitivity:  1.00 | Specificity:  1.00 | Precision:  1.00 | Loss:  0.00\n",
            "Validation Accuracy: 98.13 | Sensitivity:  0.98 | Specificity:  1.00 | Precision:  0.98 | Loss:  0.15\n",
            "\n",
            "Epoch: 96 | Train Accuracy: 99.52 | Sensitivity:  1.00 | Specificity:  1.00 | Precision:  1.00 | Loss:  0.00\n",
            "Validation Accuracy: 98.16 | Sensitivity:  0.98 | Specificity:  1.00 | Precision:  0.98 | Loss:  0.15\n",
            "\n",
            "Epoch: 97 | Train Accuracy: 99.52 | Sensitivity:  1.00 | Specificity:  1.00 | Precision:  1.00 | Loss:  0.00\n",
            "Validation Accuracy: 98.15 | Sensitivity:  0.98 | Specificity:  1.00 | Precision:  0.98 | Loss:  0.15\n",
            "\n",
            "Epoch: 98 | Train Accuracy: 99.53 | Sensitivity:  1.00 | Specificity:  1.00 | Precision:  1.00 | Loss:  0.00\n",
            "Validation Accuracy: 98.15 | Sensitivity:  0.98 | Specificity:  1.00 | Precision:  0.98 | Loss:  0.15\n",
            "\n",
            "Epoch: 99 | Train Accuracy: 99.53 | Sensitivity:  1.00 | Specificity:  1.00 | Precision:  1.00 | Loss:  0.00\n",
            "Validation Accuracy: 98.16 | Sensitivity:  0.98 | Specificity:  1.00 | Precision:  0.98 | Loss:  0.15\n",
            "\n",
            "Epoch: 100 | Train Accuracy: 99.54 | Sensitivity:  1.00 | Specificity:  1.00 | Precision:  1.00 | Loss:  0.00\n",
            "Validation Accuracy: 98.16 | Sensitivity:  0.98 | Specificity:  1.00 | Precision:  0.98 | Loss:  0.15\n",
            "\n"
          ]
        }
      ],
      "source": [
        "#TODO: runin the training process for 100 epochs\n",
        "train(train_loader, 100)"
      ]
    },
    {
      "cell_type": "markdown",
      "metadata": {
        "id": "MSDr2VB9Q0uA"
      },
      "source": [
        "### Task 10: (5 points)\n",
        "\n",
        "Test your *best model* using the `test_dataset`, and report *accuracy*, *sensitivity*, *specificity*, and *precision* and *loss*. You can consider the model with the lowest loss value on the validation set as the *best model*."
      ]
    },
    {
      "cell_type": "code",
      "execution_count": null,
      "metadata": {
        "colab": {
          "background_save": true
        },
        "id": "Njcfq-uZLriH",
        "outputId": "3e598dbf-f916-4220-efbc-0d49bb8d1acb"
      },
      "outputs": [
        {
          "name": "stdout",
          "output_type": "stream",
          "text": [
            "Validation Accuracy: 97.07 | Sensitivity:  0.97 | Specificity:  1.00 | Precision:  0.97 | Loss:  0.10\n",
            "\n"
          ]
        },
        {
          "data": {
            "text/plain": [
              "(97.07,\n",
              " tensor(0.9705),\n",
              " tensor(0.9967),\n",
              " tensor(0.9707),\n",
              " tensor(0.0991, grad_fn=<DivBackward0>))"
            ]
          },
          "execution_count": 70,
          "metadata": {},
          "output_type": "execute_result"
        }
      ],
      "source": [
        "#TODO: test your best_model here\n",
        "\n",
        "# Load the saved model\n",
        "loaded_model = DigitClassification()\n",
        "loaded_model.load_state_dict(torch.load(f=MODEL_SAVED_PATH))\n",
        "\n",
        "evaluation(loaded_model, criterion, test_loader, device)"
      ]
    },
    {
      "cell_type": "markdown",
      "metadata": {
        "id": "Mx9bidatV5RT"
      },
      "source": [
        "### Task 11: (10 points)\n",
        "\n",
        "We would like to see how accurate the trained model is when applied to a set of images of digits with slight differences. The image of a digit in our dataset has a black background (0 value for pixel values). This might be like writing with white chalk on a blackboard. We make slight changes in the test datasets by applying a simple change. We invert the pixel intensity values. The resulting images resemble a digit written with a black marker on a whiteboard. Test the model using the updated test_dataset, and report your observations regarding model performance. How would you change your pipeline if you redo this experiment?"
      ]
    },
    {
      "cell_type": "code",
      "execution_count": 93,
      "metadata": {
        "id": "cOAiUrB2mAo5"
      },
      "outputs": [],
      "source": [
        "#TODO: Implement coding part of your answer here\n",
        "# Prepare the updated test_dataset\n",
        "from torchvision import transforms\n",
        "\n",
        "transform = transforms.Compose([transforms.ToTensor(), transforms.Grayscale(num_output_channels=1), transforms.Lambda(lambda x: 1 - x)])\n",
        "inverted_dataset = DigitDataset(test_dir, transform=transform)\n",
        "inverted_test_loader = DataLoader(inverted_dataset, batch_size, shuffle=True)"
      ]
    },
    {
      "cell_type": "code",
      "execution_count": 94,
      "metadata": {
        "id": "QilEI2fL6CFQ"
      },
      "outputs": [],
      "source": [
        "# Function to print out the inverted images\n",
        "def show_inverted_images(dataset, num_images):\n",
        "    fig, axes = plt.subplots(1, num_images, figsize=(5, 2))\n",
        "    for i in range(num_images):\n",
        "        image, label = dataset[i]\n",
        "        image = image.squeeze()\n",
        "        axes[i].imshow(image, cmap='gray')\n",
        "        axes[i].set_title(f'Label: {label}')\n",
        "        axes[i].axis('off')\n",
        "    plt.show()\n",
        "\n",
        "# image, label = inverted_dataset[1]\n",
        "# image = image.squeeze()"
      ]
    },
    {
      "cell_type": "code",
      "execution_count": 95,
      "metadata": {
        "colab": {
          "base_uri": "https://localhost:8080/",
          "height": 126
        },
        "id": "Vd64DsTT73Yv",
        "outputId": "82e3764b-9e63-403d-c471-6237ef241a9c"
      },
      "outputs": [
        {
          "output_type": "display_data",
          "data": {
            "text/plain": [
              "<Figure size 500x200 with 5 Axes>"
            ],
            "image/png": "[encoded data removed]"
          },
          "metadata": {}
        }
      ],
      "source": [
        "# Print the first 5 images\n",
        "show_inverted_images(inverted_dataset, 5)"
      ]
    },
    {
      "cell_type": "code",
      "execution_count": 96,
      "metadata": {
        "id": "mlbkBPyk8V8N",
        "colab": {
          "base_uri": "https://localhost:8080/"
        },
        "outputId": "f367d14e-dc0f-44eb-d5da-fe91c64e57cd"
      },
      "outputs": [
        {
          "output_type": "stream",
          "name": "stdout",
          "text": [
            "Validation Accuracy:  5.00 | Sensitivity:  0.06 | Specificity:  0.90 | Precision:   nan | Loss:  9.56\n",
            "\n"
          ]
        },
        {
          "output_type": "execute_result",
          "data": {
            "text/plain": [
              "(5.0,\n",
              " tensor(0.0558),\n",
              " tensor(0.8950),\n",
              " tensor(nan),\n",
              " tensor(9.5624, grad_fn=<DivBackward0>))"
            ]
          },
          "metadata": {},
          "execution_count": 96
        }
      ],
      "source": [
        "evaluation(loaded_model, criterion, inverted_test_loader, device)"
      ]
    },
    {
      "cell_type": "markdown",
      "metadata": {
        "id": "dY-OONSMIpqy"
      },
      "source": [
        "**TODO: Write about your observation here**\n",
        "\n",
        "My observation is that if I inverted the images and then test them with my model. It became so inaccurate. The reason I believe is that my machine learning model is not trained on the inverted color images so that it can't predict well on those images set.\n",
        "\n",
        "To deal with this issue, my apporach to modify my pipeline is as follow:\n",
        "\n",
        "At first, I will try to use data argumentation by include inverted color images in my dataset so that my model will be exposed to both types of images in the training process. As a consequence, it will become more accurate when making predictions from the inverted color images.\n",
        "\n",
        "Secondly, if I have to make prediction based on the inverted color images, I could try to convert its color to the color that I train my model on so my model could be familiar with the images to make better predictions.\n",
        "\n",
        "Thirdly, I could also try to doing reasearch so that I could make changes to my model's architecture or loss functions so that it'll be less sensitive to changes in color scheme.\n",
        "\n",
        "In my opinion, I don't have to do all of the changes mentioned above. However, if applying one change is not enough, then I will try to implement all of the modifications mentioned above to bring the best performance to my model.\n",
        "\n",
        "\n"
      ]
    }
  ],
  "metadata": {
    "colab": {
      "provenance": []
    },
    "kernelspec": {
      "display_name": "Python 3",
      "name": "python3"
    },
    "language_info": {
      "name": "python"
    }
  },
  "nbformat": 4,
  "nbformat_minor": 0
}